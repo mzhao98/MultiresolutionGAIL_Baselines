{
 "cells": [
  {
   "cell_type": "code",
   "execution_count": 1,
   "metadata": {
    "scrolled": true
   },
   "outputs": [
    {
     "name": "stderr",
     "output_type": "stream",
     "text": [
      "/Users/michellezhao/anaconda3/lib/python3.6/site-packages/h5py/__init__.py:34: FutureWarning: Conversion of the second argument of issubdtype from `float` to `np.floating` is deprecated. In future, it will be treated as `np.float64 == np.dtype(float).type`.\n",
      "  from ._conv import register_converters as _register_converters\n",
      "/Users/michellezhao/anaconda3/lib/python3.6/site-packages/ipykernel_launcher.py:13: UserWarning: \n",
      "This call to matplotlib.use() has no effect because the backend has already\n",
      "been chosen; matplotlib.use() must be called *before* pylab, matplotlib.pyplot,\n",
      "or matplotlib.backends is imported for the first time.\n",
      "\n",
      "The backend was *originally* set to 'module://ipykernel.pylab.backend_inline' by the following code:\n",
      "  File \"/Users/michellezhao/anaconda3/lib/python3.6/runpy.py\", line 193, in _run_module_as_main\n",
      "    \"__main__\", mod_spec)\n",
      "  File \"/Users/michellezhao/anaconda3/lib/python3.6/runpy.py\", line 85, in _run_code\n",
      "    exec(code, run_globals)\n",
      "  File \"/Users/michellezhao/anaconda3/lib/python3.6/site-packages/ipykernel_launcher.py\", line 16, in <module>\n",
      "    app.launch_new_instance()\n",
      "  File \"/Users/michellezhao/anaconda3/lib/python3.6/site-packages/traitlets/config/application.py\", line 658, in launch_instance\n",
      "    app.start()\n",
      "  File \"/Users/michellezhao/anaconda3/lib/python3.6/site-packages/ipykernel/kernelapp.py\", line 477, in start\n",
      "    ioloop.IOLoop.instance().start()\n",
      "  File \"/Users/michellezhao/anaconda3/lib/python3.6/site-packages/zmq/eventloop/ioloop.py\", line 177, in start\n",
      "    super(ZMQIOLoop, self).start()\n",
      "  File \"/Users/michellezhao/anaconda3/lib/python3.6/site-packages/tornado/ioloop.py\", line 888, in start\n",
      "    handler_func(fd_obj, events)\n",
      "  File \"/Users/michellezhao/anaconda3/lib/python3.6/site-packages/tornado/stack_context.py\", line 277, in null_wrapper\n",
      "    return fn(*args, **kwargs)\n",
      "  File \"/Users/michellezhao/anaconda3/lib/python3.6/site-packages/zmq/eventloop/zmqstream.py\", line 440, in _handle_events\n",
      "    self._handle_recv()\n",
      "  File \"/Users/michellezhao/anaconda3/lib/python3.6/site-packages/zmq/eventloop/zmqstream.py\", line 472, in _handle_recv\n",
      "    self._run_callback(callback, msg)\n",
      "  File \"/Users/michellezhao/anaconda3/lib/python3.6/site-packages/zmq/eventloop/zmqstream.py\", line 414, in _run_callback\n",
      "    callback(*args, **kwargs)\n",
      "  File \"/Users/michellezhao/anaconda3/lib/python3.6/site-packages/tornado/stack_context.py\", line 277, in null_wrapper\n",
      "    return fn(*args, **kwargs)\n",
      "  File \"/Users/michellezhao/anaconda3/lib/python3.6/site-packages/ipykernel/kernelbase.py\", line 283, in dispatcher\n",
      "    return self.dispatch_shell(stream, msg)\n",
      "  File \"/Users/michellezhao/anaconda3/lib/python3.6/site-packages/ipykernel/kernelbase.py\", line 235, in dispatch_shell\n",
      "    handler(stream, idents, msg)\n",
      "  File \"/Users/michellezhao/anaconda3/lib/python3.6/site-packages/ipykernel/kernelbase.py\", line 399, in execute_request\n",
      "    user_expressions, allow_stdin)\n",
      "  File \"/Users/michellezhao/anaconda3/lib/python3.6/site-packages/ipykernel/ipkernel.py\", line 196, in do_execute\n",
      "    res = shell.run_cell(code, store_history=store_history, silent=silent)\n",
      "  File \"/Users/michellezhao/anaconda3/lib/python3.6/site-packages/ipykernel/zmqshell.py\", line 533, in run_cell\n",
      "    return super(ZMQInteractiveShell, self).run_cell(*args, **kwargs)\n",
      "  File \"/Users/michellezhao/anaconda3/lib/python3.6/site-packages/IPython/core/interactiveshell.py\", line 2698, in run_cell\n",
      "    interactivity=interactivity, compiler=compiler, result=result)\n",
      "  File \"/Users/michellezhao/anaconda3/lib/python3.6/site-packages/IPython/core/interactiveshell.py\", line 2802, in run_ast_nodes\n",
      "    if self.run_code(code, result):\n",
      "  File \"/Users/michellezhao/anaconda3/lib/python3.6/site-packages/IPython/core/interactiveshell.py\", line 2862, in run_code\n",
      "    exec(code_obj, self.user_global_ns, self.user_ns)\n",
      "  File \"<ipython-input-1-5b8d5b978b22>\", line 2, in <module>\n",
      "    import matplotlib.pyplot as plt\n",
      "  File \"/Users/michellezhao/anaconda3/lib/python3.6/site-packages/matplotlib/pyplot.py\", line 72, in <module>\n",
      "    from matplotlib.backends import pylab_setup\n",
      "  File \"/Users/michellezhao/anaconda3/lib/python3.6/site-packages/matplotlib/backends/__init__.py\", line 14, in <module>\n",
      "    line for line in traceback.format_stack()\n",
      "\n",
      "\n",
      "  del sys.path[0]\n"
     ]
    }
   ],
   "source": [
    "import numpy as np\n",
    "import matplotlib.pyplot as plt\n",
    "import tensorflow as tf\n",
    "import torch\n",
    "import torch.nn as nn\n",
    "import torch.optim as optim\n",
    "import matplotlib\n",
    "matplotlib.use('Agg')\n",
    "import matplotlib.pyplot as plt\n",
    "import torch.nn.parameter\n",
    "import torch.autograd as grad\n",
    "from torch.nn import functional as F \n",
    "import random\n",
    "from torch.autograd import Function, Variable\n",
    "from torch.nn import Module, Parameter\n",
    "import math\n",
    "import torch.optim\n",
    "import time\n",
    "import torchvision\n",
    "import torchvision.transforms as transforms"
   ]
  },
  {
   "cell_type": "code",
   "execution_count": 2,
   "metadata": {
    "collapsed": true
   },
   "outputs": [],
   "source": [
    "np.random.seed(2)\n",
    "\n",
    "amp = 100\n",
    "w = 0.002\n",
    "b = 20\n",
    "N = 10000\n",
    "\n",
    "x = np.arange(N)\n",
    "data = (amp*np.sin(w*x + b)).astype('float64')\n",
    "trainX = []\n",
    "trainY = []\n",
    "step_size = 5\n",
    "x_size = 5\n",
    "y_size = 1\n",
    "batch_size = 1\n",
    "for batch in range(batch_size):\n",
    "    batchX = []\n",
    "    batchY = []\n",
    "    for i in range(0, len(data)-15, step_size):\n",
    "        addx = data[i:i+x_size]\n",
    "        addy = data[i+x_size:i+x_size+1]\n",
    "        batchX.append(addx)\n",
    "        batchY.append(addy)\n",
    "    trainX.append(batchX)\n",
    "    trainY.append(batchY)\n",
    "    \n",
    "trainX = torch.from_numpy(np.array(trainX))\n",
    "trainY = torch.from_numpy(np.array(trainY))\n",
    "x = trainX\n",
    "y = trainY"
   ]
  },
  {
   "cell_type": "code",
   "execution_count": 3,
   "metadata": {
    "collapsed": true
   },
   "outputs": [],
   "source": [
    "sequence_length = 50\n",
    "input_size = 50\n",
    "hidden_size = 128\n",
    "num_layers = 2\n",
    "num_classes = 10\n",
    "batch_size = 1\n",
    "num_epochs = 2\n",
    "learning_rate = 0.01\n",
    "\n",
    "def hard_sigma(a, x):\n",
    "    temp = torch.div(torch.add(torch.mul(x, a), 1), 2.0)\n",
    "    output = torch.clamp(temp, min=0, max=1)\n",
    "    return output\n",
    "\n",
    "def fbound(z_tilde):\n",
    "    if z_tilde > 0.5:\n",
    "        return 1\n",
    "    return 0\n",
    "\n",
    "torch.set_default_tensor_type('torch.DoubleTensor')"
   ]
  },
  {
   "cell_type": "code",
   "execution_count": 4,
   "metadata": {
    "collapsed": true
   },
   "outputs": [],
   "source": [
    "class LSTMCell(Module):\n",
    "    '''\n",
    "    Level 1, Level 2, Level 3\n",
    "    W_01_bu\n",
    "    W_11_r\n",
    "    W_21_td\n",
    "    '''\n",
    "    def __init__(self, bottom_size, hidden_size, top_size, a, last_layer):\n",
    "        super(LSTMCell, self).__init__()\n",
    "        self.bottom_size = bottom_size\n",
    "        self.hidden_size = hidden_size\n",
    "        self.top_size = top_size\n",
    "        self.last_layer = last_layer\n",
    "        self.a = a\n",
    "        self.W_11_r = Parameter(torch.FloatTensor(4 * self.hidden_size + 1, self.hidden_size))\n",
    "        if not self.last_layer:\n",
    "            self.W_21_td = Parameter(torch.FloatTensor(4 * self.hidden_size + 1, self.top_size))\n",
    "        self.W_01_bu = Parameter(torch.FloatTensor(4 * self.hidden_size + 1, self.bottom_size))\n",
    "        self.bias = Parameter(torch.FloatTensor(4 * self.hidden_size + 1))\n",
    "\n",
    "\n",
    "    def forward(self, c, h_bottom, h, h_top, z, z_bottom):\n",
    "        s_recur = torch.mm(self.W_11_r, h).float()\n",
    "        if not self.last_layer:\n",
    "            s_bottomup = torch.mm(self.W_01_bu, h_bottom.float())\n",
    "            s_topdown = torch.mm(self.W_21_td, h_top.float())\n",
    "        else:\n",
    "            s_topdown = Variable(torch.zeros(s_recur.size()), requires_grad=False).float()\n",
    "            s_bottomup = torch.mm(self.W_11_r.long(), h.long())\n",
    "        s_bottomup = torch.tensor(z_bottom).expand_as(s_bottomup)*s_bottomup\n",
    "        s_topdown = (torch.tensor(z).expand_as(s_topdown)).long()*(s_topdown.long())\n",
    "\n",
    "        fslice = s_recur.float() + s_topdown.float() + s_bottomup.float() + self.bias.unsqueeze(1).expand_as(s_recur)\n",
    "\n",
    "        f_t = F.sigmoid(fslice[0:self.hidden_size, :])  \n",
    "        i_t = F.sigmoid(fslice[self.hidden_size:self.hidden_size*2, :])\n",
    "        o_t = F.sigmoid(fslice[self.hidden_size*2:self.hidden_size*3, :])\n",
    "        u_t = F.tanh(fslice[self.hidden_size*3:self.hidden_size*4, :])\n",
    "        z_tilde = hard_sigma(self.a, fslice[self.hidden_size*4:self.hidden_size*4+1, :])\n",
    "\n",
    "\n",
    "        z_new = fbound(z_tilde)\n",
    "\n",
    "        if z == 1: #(FLUSH)\n",
    "            c_new = i_t * u_t\n",
    "            h_new = o_t * F.tanh(c_new)\n",
    "        elif z_bottom == 0: #(COPY)\n",
    "            c_new = c\n",
    "            h_new = h\n",
    "        else: #(UPDATE)\n",
    "            c_new = f_t * c + i_t * u_t\n",
    "            h_new = o_t * F.tanh(c_new)\n",
    "\n",
    "        return h_new, c_new, z_new, u_t\n"
   ]
  },
  {
   "cell_type": "code",
   "execution_count": 5,
   "metadata": {
    "collapsed": true
   },
   "outputs": [],
   "source": [
    "class HM_LSTM(Module):\n",
    "    def __init__(self, a, input_size, size_list):\n",
    "        super(HM_LSTM, self).__init__()\n",
    "        self.a = a\n",
    "        self.input_size = input_size\n",
    "        self.size_list = size_list\n",
    "\n",
    "        self.cell_1 = LSTMCell(self.input_size, self.size_list[0], self.size_list[1], self.a, False)\n",
    "        self.cell_2 = LSTMCell(self.size_list[0], self.size_list[1], None, self.a, True)\n",
    "\n",
    "    def forward(self, inputs, hidden):\n",
    "        time_steps = 2\n",
    "        batch_size = 1\n",
    "        if hidden == None:\n",
    "            h_t1 = Variable(torch.zeros(self.size_list[0], batch_size).float(), requires_grad=False)\n",
    "            c_t1 = Variable(torch.zeros(self.size_list[0], batch_size).float(), requires_grad=False)\n",
    "            z_t1 = Variable(torch.zeros(1, batch_size).float(), requires_grad=False)\n",
    "            h_t2 = Variable(torch.zeros(self.size_list[1], batch_size).float(), requires_grad=False)\n",
    "            c_t2 = Variable(torch.zeros(self.size_list[1], batch_size).float(), requires_grad=False)\n",
    "            z_t2 = Variable(torch.zeros(1, batch_size).float(), requires_grad=False)\n",
    "        else:\n",
    "            (h_t1, c_t1, z_t1, h_t2, c_t2, z_t2) = hidden\n",
    "        z_one = Variable(torch.ones(1, batch_size).float(), requires_grad=False)\n",
    "        h_1 = []\n",
    "        h_2 = []\n",
    "        z_1 = []\n",
    "        z_2 = []\n",
    "        \n",
    "        for t in range(time_steps):\n",
    "            h_t1, c_t1, z_t1, g_t1 = self.cell_1(c=c_t1, h_bottom=inputs[:, t, :].t(), h=h_t1, h_top=h_t2, z=z_t1, z_bottom=z_one)\n",
    "            h_t2, c_t2, z_t2, g_t2 = self.cell_2(c=c_t2, h_bottom=h_t1, h=h_t2, h_top=None, z=z_t2, z_bottom=z_t1)  # 0.01s used\n",
    "            h_1 += [h_t1.t()]\n",
    "            h_2 += [h_t2.t()]\n",
    "            z_1 += [torch.tensor(z_t1)]\n",
    "            z_2 += [torch.tensor(z_t2)]\n",
    "\n",
    "        hidden = (h_t1, c_t1, z_t1, h_t2, c_t2, z_t2)\n",
    "        g_t = (g_t1, g_t2)\n",
    "        return h_t1, c_t1, z_t1, h_t2, c_t2, z_t2, g_t1, g_t2\n",
    "\n"
   ]
  },
  {
   "cell_type": "code",
   "execution_count": 6,
   "metadata": {},
   "outputs": [
    {
     "name": "stderr",
     "output_type": "stream",
     "text": [
      "/Users/michellezhao/anaconda3/lib/python3.6/site-packages/torch/nn/functional.py:1006: UserWarning: nn.functional.sigmoid is deprecated. Use torch.sigmoid instead.\n",
      "  warnings.warn(\"nn.functional.sigmoid is deprecated. Use torch.sigmoid instead.\")\n",
      "/Users/michellezhao/anaconda3/lib/python3.6/site-packages/torch/nn/functional.py:995: UserWarning: nn.functional.tanh is deprecated. Use torch.tanh instead.\n",
      "  warnings.warn(\"nn.functional.tanh is deprecated. Use torch.tanh instead.\")\n"
     ]
    },
    {
     "name": "stdout",
     "output_type": "stream",
     "text": [
      "Epoch: 100 | Loss: 410825.592773\n",
      "Epoch: 200 | Loss: 338655.040527\n",
      "Epoch: 300 | Loss: 334523.950439\n",
      "Epoch: 400 | Loss: 334522.368408\n",
      "Epoch: 500 | Loss: 334522.233887\n",
      "Epoch: 600 | Loss: 334522.136963\n",
      "Epoch: 700 | Loss: 334522.063721\n",
      "Epoch: 800 | Loss: 334522.004395\n",
      "Epoch: 900 | Loss: 334521.957275\n",
      "Epoch: 1000 | Loss: 334521.920898\n"
     ]
    }
   ],
   "source": [
    "amp = 100\n",
    "w = 0.002\n",
    "b = 0\n",
    "N = 10000\n",
    "\n",
    "x = np.arange(N)\n",
    "data = (amp*np.sin(w*x + b)).astype('float64')\n",
    "trainX = []\n",
    "trainY = []\n",
    "step_size = 15\n",
    "x_size = 5\n",
    "y_size = 1\n",
    "batch_size = 1\n",
    "for batch in range(batch_size):\n",
    "    batchX = []\n",
    "    batchY = []\n",
    "    for i in range(0, len(data)-15, step_size):\n",
    "        addx = data[i:i+x_size]\n",
    "        addy = data[i+x_size:i+x_size+1]\n",
    "        batchX.append(addx)\n",
    "        batchY.append(addy)\n",
    "    trainX.append(batchX)\n",
    "    trainY.append(batchY)\n",
    "    \n",
    "trainX = torch.from_numpy(np.array(trainX))\n",
    "trainY = torch.from_numpy(np.array(trainY))\n",
    "\n",
    "\n",
    "x = trainX\n",
    "y = trainY\n",
    "\n",
    "\n",
    "nb_steps = 20\n",
    "\n",
    "class LSTM(nn.Module): \n",
    "    def __init__(self, size_list): \n",
    "\n",
    "        nn.Module.__init__(self)\n",
    "        self.size_list = size_list\n",
    "        self.lstm = HM_LSTM(0.5, 5, size_list)\n",
    "        self.linear = nn.Linear(666, 666, bias = False)\n",
    "        self.relu = nn.ReLU()\n",
    "        self.loss = nn.MSELoss()\n",
    "\n",
    "    def forward(self,x): \n",
    "        hidden = self.init_hidden(1)\n",
    "        h_t1, c_t1, z_t1, h_t2, c_t2, z_t2, g_t1, g_t2 = self.lstm(x, hidden)\n",
    "        h = torch.cat((h_t1, h_t2),1)\n",
    "        lin = self.linear(h.t().double())\n",
    "        g = []\n",
    "        g.append(g_t1.detach().numpy())\n",
    "        g.append(g_t2.detach().numpy())\n",
    "        g = torch.from_numpy(np.array(g)).squeeze(2)\n",
    "        gh1 = g[0].float()*lin[0].float()\n",
    "        gh2 = g[1].float()*lin[1].float()\n",
    "        h_e = self.relu(gh1+gh2)    \n",
    "        return h_e\n",
    "\n",
    "    \n",
    "    def init_hidden(self, batch_size):\n",
    "        h_t1 = Variable(torch.zeros(self.size_list[0], batch_size).float(), requires_grad=True)\n",
    "        c_t1 = Variable(torch.zeros(self.size_list[0], batch_size).float(), requires_grad=True)\n",
    "        z_t1 = Variable(torch.zeros(1, batch_size).float(), requires_grad=True)\n",
    "        h_t2 = Variable(torch.zeros(self.size_list[1], batch_size).float(), requires_grad=True)\n",
    "        c_t2 = Variable(torch.zeros(self.size_list[1], batch_size).float(), requires_grad=True)\n",
    "        z_t2 = Variable(torch.zeros(1, batch_size).float(), requires_grad=True)\n",
    "        hidden = (h_t1, c_t1, z_t1, h_t2, c_t2, z_t2)\n",
    "        return hidden\n",
    "\n",
    "rnn = LSTM([666, 666])\n",
    "epochs = 1000\n",
    "batch_size = 1\n",
    "criterion = nn.MSELoss()\n",
    "mean_loss = 0. \n",
    "optimizer = optim.Adam(rnn.parameters(), 1e-3)\n",
    "for epoch in range(1,epochs+1): \n",
    "    optimizer.zero_grad()\n",
    "    pred = rnn(x)\n",
    "    loss = criterion((pred).float(), (y.squeeze(0).squeeze(1)).float())\n",
    "    loss.backward()\n",
    "    optimizer = optim.Adam(rnn.parameters(), 1e-3)\n",
    "    optimizer.step()\n",
    "    mean_loss += loss.item()\n",
    "    if epoch%100 == 0: \n",
    "        print('Epoch: {} | Loss: {:.6f}'.format(epoch, mean_loss))\n",
    "        mean_loss = 0\n",
    "        \n"
   ]
  },
  {
   "cell_type": "code",
   "execution_count": 7,
   "metadata": {},
   "outputs": [
    {
     "name": "stdout",
     "output_type": "stream",
     "text": [
      "torch.Size([666])\n",
      "torch.Size([1, 666, 1])\n"
     ]
    },
    {
     "data": {
      "image/png": "[encoded data removed]",
      "text/plain": [
       "<matplotlib.figure.Figure at 0x112ec6fd0>"
      ]
     },
     "metadata": {},
     "output_type": "display_data"
    }
   ],
   "source": [
    "ss = 5\n",
    "print(pred.shape)\n",
    "print(y.shape)\n",
    "\n",
    "new_pred = pred.detach().numpy()\n",
    "new_trainY = y.squeeze(0).squeeze(1).detach().numpy()\n",
    "\n",
    "start = 1\n",
    "for i in range(0,20):\n",
    "    plt_x = range(start, start+ss+1)\n",
    "    start = start+ss\n",
    "    plt_y = np.append(trainX[0][i],new_trainY[i])\n",
    "    plt_y2 = np.append(trainX[0][i], new_pred[i])\n",
    "\n",
    "    plt.plot(plt_x,plt_y2,'r')\n",
    "    plt.plot(plt_x,plt_y,'g')\n",
    "    \n",
    "    \n",
    "plt.show()"
   ]
  },
  {
   "cell_type": "code",
   "execution_count": 8,
   "metadata": {},
   "outputs": [
    {
     "data": {
      "image/png": "[encoded data removed]",
      "text/plain": [
       "<matplotlib.figure.Figure at 0x112edbd68>"
      ]
     },
     "metadata": {},
     "output_type": "display_data"
    }
   ],
   "source": [
    "ss = 5\n",
    "new_pred = pred.detach().numpy()\n",
    "new_trainY = y.squeeze(0).squeeze(1).detach().numpy()\n",
    "\n",
    "start = 1\n",
    "for i in range(0,20):\n",
    "    plt_x = range(start, start+ss+1)\n",
    "    start = start+ss\n",
    "    plt_y = np.append(trainX[0][i],new_trainY[i])\n",
    "    plt_y2 = np.append(trainX[0][i], new_pred[i])\n",
    "\n",
    "    plt.plot(plt_x,plt_y2,'r')\n",
    "    plt.plot(plt_x,plt_y,'g')\n",
    "    \n",
    "    \n",
    "plt.show()"
   ]
  },
  {
   "cell_type": "code",
   "execution_count": 9,
   "metadata": {},
   "outputs": [
    {
     "data": {
      "image/png": "[encoded data removed]",
      "text/plain": [
       "<matplotlib.figure.Figure at 0x112f46a58>"
      ]
     },
     "metadata": {},
     "output_type": "display_data"
    },
    {
     "name": "stdout",
     "output_type": "stream",
     "text": [
      "PRED [ 1.2339017  0.         7.380474   0.        13.348594   0.\n",
      " 19.268942  21.627384   0.         0.        30.884674  33.726414\n",
      "  0.         0.        41.889458   0.        46.74227    0.\n",
      " 51.938828  54.456192  57.077065  60.06893    0.        64.73813\n",
      " 66.89106   69.233406  71.31949   72.77197   74.90458   76.82114  ]\n",
      "Y [ 0.99998333  3.99893342  6.99428473  9.98334166 12.96341426 15.93182066\n",
      " 18.8858895  21.82296231 24.74039593 27.63556486 30.50586364 33.34870921\n",
      " 36.1615432  38.94183423 41.68708024 44.3948107  47.06258882 49.68801378\n",
      " 52.26872289 54.80239368 57.28674601 59.71954414 62.0985987  64.42176872\n",
      " 66.6869635  68.89214451 71.03532724 73.11458297 75.12804051 77.07388789]\n"
     ]
    }
   ],
   "source": [
    "new_pred = pred.detach().numpy()\n",
    "new_trainY = y.squeeze(0).squeeze(1).detach().numpy()\n",
    "plt.scatter(range(len(new_trainY[:30])), new_trainY[:30], c='b')\n",
    "plt.scatter(range(len(new_pred[:30])), new_pred[:30], c='r')\n",
    "\n",
    "plt.show()\n",
    "\n",
    "print(\"PRED\", new_pred[:30].transpose())\n",
    "print(\"Y\", new_trainY[:30].transpose())"
   ]
  },
  {
   "cell_type": "code",
   "execution_count": 10,
   "metadata": {},
   "outputs": [
    {
     "data": {
      "image/png": "[encoded data removed]",
      "text/plain": [
       "<matplotlib.figure.Figure at 0x182c96b518>"
      ]
     },
     "metadata": {},
     "output_type": "display_data"
    },
    {
     "data": {
      "image/png": "[encoded data removed]",
      "text/plain": [
       "<matplotlib.figure.Figure at 0x182c97d128>"
      ]
     },
     "metadata": {},
     "output_type": "display_data"
    },
    {
     "name": "stdout",
     "output_type": "stream",
     "text": [
      "PRED [ 1.2339017  0.         7.380474   0.        13.348594   0.\n",
      " 19.268942  21.627384   0.         0.        30.884674  33.726414\n",
      "  0.         0.        41.889458   0.        46.74227    0.\n",
      " 51.938828  54.456192  57.077065  60.06893    0.        64.73813\n",
      " 66.89106   69.233406  71.31949   72.77197   74.90458   76.82114  ]\n",
      "Y [ 0.99998333  3.99893342  6.99428473  9.98334166 12.96341426 15.93182066\n",
      " 18.8858895  21.82296231 24.74039593 27.63556486 30.50586364 33.34870921\n",
      " 36.1615432  38.94183423 41.68708024 44.3948107  47.06258882 49.68801378\n",
      " 52.26872289 54.80239368 57.28674601 59.71954414 62.0985987  64.42176872\n",
      " 66.6869635  68.89214451 71.03532724 73.11458297 75.12804051 77.07388789]\n"
     ]
    }
   ],
   "source": [
    "new_pred = pred.detach().numpy()\n",
    "new_trainY = y.squeeze(0).squeeze(1).detach().numpy()\n",
    "\n",
    "plot_x = range(len(new_pred[60:100]))\n",
    "plot_y = new_pred[60:100]\n",
    "plot_y2 = new_trainY[60:100]\n",
    "\n",
    "points1 = []\n",
    "points2 = []\n",
    "for i in range(len(plot_x)):\n",
    "    points1.append([plot_x[i], plot_y[i]])\n",
    "    points2.append([plot_x[i], plot_y2[i]])\n",
    "\n",
    "plt.plot(range(len(new_pred[60:100])), new_pred[60:100], 'r')\n",
    "plt.plot(range(len(new_trainY[60:100])), new_trainY[60:100], 'b')\n",
    "plt.show()\n",
    "\n",
    "plt.scatter(range(len(new_trainY[60:100])), new_trainY[60:100], c='b')\n",
    "plt.scatter(range(len(new_pred[60:100])), new_pred[60:100], c='r')\n",
    "\n",
    "plt.show()\n",
    "\n",
    "print(\"PRED\", new_pred[:30].transpose())\n",
    "print(\"Y\", new_trainY[:30].transpose())"
   ]
  },
  {
   "cell_type": "code",
   "execution_count": 11,
   "metadata": {},
   "outputs": [
    {
     "data": {
      "image/png": "[encoded data removed]",
      "text/plain": [
       "<matplotlib.figure.Figure at 0x182c9e6518>"
      ]
     },
     "metadata": {},
     "output_type": "display_data"
    },
    {
     "name": "stdout",
     "output_type": "stream",
     "text": [
      "PRED [ 1.2339017  0.         7.380474   0.        13.348594   0.\n",
      " 19.268942  21.627384   0.         0.        30.884674  33.726414\n",
      "  0.         0.        41.889458   0.        46.74227    0.\n",
      " 51.938828  54.456192  57.077065  60.06893    0.        64.73813\n",
      " 66.89106   69.233406  71.31949   72.77197   74.90458   76.82114  ]\n",
      "Y [ 0.99998333  3.99893342  6.99428473  9.98334166 12.96341426 15.93182066\n",
      " 18.8858895  21.82296231 24.74039593 27.63556486 30.50586364 33.34870921\n",
      " 36.1615432  38.94183423 41.68708024 44.3948107  47.06258882 49.68801378\n",
      " 52.26872289 54.80239368 57.28674601 59.71954414 62.0985987  64.42176872\n",
      " 66.6869635  68.89214451 71.03532724 73.11458297 75.12804051 77.07388789]\n"
     ]
    }
   ],
   "source": [
    "new_pred = pred.detach().numpy()\n",
    "new_trainY = y.squeeze(0).squeeze(1).detach().numpy()\n",
    "\n",
    "plot_x = range(len(new_pred[60:100]))\n",
    "plot_y = new_pred[60:100]\n",
    "plot_y2 = new_trainY[60:100]\n",
    "\n",
    "points1 = []\n",
    "points2 = []\n",
    "for i in range(len(plot_x)):\n",
    "    points1.append([plot_x[i], plot_y[i]])\n",
    "    points2.append([plot_x[i], plot_y2[i]])\n",
    "\n",
    "plt.scatter(range(len(new_trainY)), new_trainY, c='b', s=2)\n",
    "plt.scatter(range(len(new_pred)), new_pred, c='r', s=2)\n",
    "\n",
    "plt.show()\n",
    "\n",
    "print(\"PRED\", new_pred[:30].transpose())\n",
    "print(\"Y\", new_trainY[:30].transpose())"
   ]
  },
  {
   "cell_type": "code",
   "execution_count": 12,
   "metadata": {},
   "outputs": [
    {
     "data": {
      "image/png": "[encoded data removed]",
      "text/plain": [
       "<matplotlib.figure.Figure at 0x182cbb9eb8>"
      ]
     },
     "metadata": {},
     "output_type": "display_data"
    },
    {
     "name": "stdout",
     "output_type": "stream",
     "text": [
      "PRED [ 1.2339017  0.         7.380474   0.        13.348594   0.\n",
      " 19.268942  21.627384   0.         0.        30.884674  33.726414\n",
      "  0.         0.        41.889458   0.        46.74227    0.\n",
      " 51.938828  54.456192  57.077065  60.06893    0.        64.73813\n",
      " 66.89106   69.233406  71.31949   72.77197   74.90458   76.82114  ]\n",
      "Y [ 0.99998333  3.99893342  6.99428473  9.98334166 12.96341426 15.93182066\n",
      " 18.8858895  21.82296231 24.74039593 27.63556486 30.50586364 33.34870921\n",
      " 36.1615432  38.94183423 41.68708024 44.3948107  47.06258882 49.68801378\n",
      " 52.26872289 54.80239368 57.28674601 59.71954414 62.0985987  64.42176872\n",
      " 66.6869635  68.89214451 71.03532724 73.11458297 75.12804051 77.07388789]\n"
     ]
    }
   ],
   "source": [
    "new_pred = pred.detach().numpy()\n",
    "new_trainY = y.squeeze(0).squeeze(1).detach().numpy()\n",
    "\n",
    "plot_x = range(len(new_pred))\n",
    "plot_y = new_pred\n",
    "plot_y2 = new_trainY\n",
    "\n",
    "points1 = []\n",
    "points2 = []\n",
    "for i in range(len(plot_x)):\n",
    "    points1.append([plot_x[i], plot_y[i]])\n",
    "    points2.append([plot_x[i], plot_y2[i]])\n",
    "\n",
    "# plt.plot(range(len(new_pred[60:100])), new_pred[60:100], 'r')\n",
    "# plt.plot(range(len(new_trainY[60:100])), new_trainY[60:100], 'b')\n",
    "# plt.show()\n",
    "\n",
    "# plt.scatter(points1, 'r')\n",
    "# plt.scatter(points2, 'b')\n",
    "# plt.show()\n",
    "plt.scatter(range(len(new_trainY)), new_trainY, c='b', s=2)\n",
    "for i in range(len(plot_x)):\n",
    "    if plot_y2[i]!=0:\n",
    "        plt.scatter(plot_x[i], plot_y2[i], c='r', s=1)\n",
    "\n",
    "plt.show()\n",
    "\n",
    "print(\"PRED\", new_pred[:30].transpose())\n",
    "print(\"Y\", new_trainY[:30].transpose())"
   ]
  },
  {
   "cell_type": "code",
   "execution_count": null,
   "metadata": {
    "collapsed": true
   },
   "outputs": [],
   "source": []
  }
 ],
 "metadata": {
  "kernelspec": {
   "display_name": "Python 3",
   "language": "python",
   "name": "python3"
  },
  "language_info": {
   "codemirror_mode": {
    "name": "ipython",
    "version": 3
   },
   "file_extension": ".py",
   "mimetype": "text/x-python",
   "name": "python",
   "nbconvert_exporter": "python",
   "pygments_lexer": "ipython3",
   "version": "3.6.3"
  }
 },
 "nbformat": 4,
 "nbformat_minor": 2
}
